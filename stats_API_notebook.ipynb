{
 "cells": [
  {
   "cell_type": "code",
   "execution_count": 2,
   "metadata": {},
   "outputs": [
    {
     "data": {
      "text/html": [
       "<div>\n",
       "<style scoped>\n",
       "    .dataframe tbody tr th:only-of-type {\n",
       "        vertical-align: middle;\n",
       "    }\n",
       "\n",
       "    .dataframe tbody tr th {\n",
       "        vertical-align: top;\n",
       "    }\n",
       "\n",
       "    .dataframe thead th {\n",
       "        text-align: right;\n",
       "    }\n",
       "</style>\n",
       "<table border=\"1\" class=\"dataframe\">\n",
       "  <thead>\n",
       "    <tr style=\"text-align: right;\">\n",
       "      <th></th>\n",
       "      <th>userId</th>\n",
       "      <th>movieId</th>\n",
       "      <th>rating</th>\n",
       "      <th>timestamp</th>\n",
       "    </tr>\n",
       "  </thead>\n",
       "  <tbody>\n",
       "    <tr>\n",
       "      <th>0</th>\n",
       "      <td>1</td>\n",
       "      <td>2</td>\n",
       "      <td>3.5</td>\n",
       "      <td>2005-04-02 23:53:47</td>\n",
       "    </tr>\n",
       "    <tr>\n",
       "      <th>1</th>\n",
       "      <td>1</td>\n",
       "      <td>29</td>\n",
       "      <td>3.5</td>\n",
       "      <td>2005-04-02 23:31:16</td>\n",
       "    </tr>\n",
       "    <tr>\n",
       "      <th>2</th>\n",
       "      <td>1</td>\n",
       "      <td>32</td>\n",
       "      <td>3.5</td>\n",
       "      <td>2005-04-02 23:33:39</td>\n",
       "    </tr>\n",
       "    <tr>\n",
       "      <th>3</th>\n",
       "      <td>1</td>\n",
       "      <td>47</td>\n",
       "      <td>3.5</td>\n",
       "      <td>2005-04-02 23:32:07</td>\n",
       "    </tr>\n",
       "    <tr>\n",
       "      <th>4</th>\n",
       "      <td>1</td>\n",
       "      <td>50</td>\n",
       "      <td>3.5</td>\n",
       "      <td>2005-04-02 23:29:40</td>\n",
       "    </tr>\n",
       "  </tbody>\n",
       "</table>\n",
       "</div>"
      ],
      "text/plain": [
       "   userId  movieId  rating            timestamp\n",
       "0       1        2     3.5  2005-04-02 23:53:47\n",
       "1       1       29     3.5  2005-04-02 23:31:16\n",
       "2       1       32     3.5  2005-04-02 23:33:39\n",
       "3       1       47     3.5  2005-04-02 23:32:07\n",
       "4       1       50     3.5  2005-04-02 23:29:40"
      ]
     },
     "execution_count": 2,
     "metadata": {},
     "output_type": "execute_result"
    }
   ],
   "source": [
    "import pandas as pd\n",
    "# import numpy as np\n",
    "\n",
    "\n",
    "df = pd.read_csv('rating.csv')\n",
    "df.head()"
   ]
  },
  {
   "cell_type": "code",
   "execution_count": 3,
   "metadata": {
    "collapsed": true
   },
   "outputs": [],
   "source": [
    "# df.info(memory_usage=\"deep\")\n",
    "# df.memory_usage()\n",
    "# df.describe()"
   ]
  },
  {
   "cell_type": "code",
   "execution_count": 4,
   "metadata": {},
   "outputs": [
    {
     "data": {
      "text/plain": [
       "dtype('<M8[ns]')"
      ]
     },
     "execution_count": 4,
     "metadata": {},
     "output_type": "execute_result"
    }
   ],
   "source": [
    "# parse the timestamp because it's currently an object\n",
    "df[\"timestamp\"] = pd.to_datetime(df[\"timestamp\"])\n",
    "\n",
    "# Double check it's been parse correctly\n",
    "df.timestamp.dtype"
   ]
  },
  {
   "cell_type": "code",
   "execution_count": 5,
   "metadata": {},
   "outputs": [
    {
     "name": "stdout",
     "output_type": "stream",
     "text": [
      "timestamp    datetime64[ns]\n",
      "userId                int64\n",
      "movieId               int64\n",
      "rating                int64\n",
      "dtype: object\n",
      "    timestamp   userId  movieId   rating\n",
      "0  1995-12-31        4        4        4\n",
      "1  1996-12-31  1612609  1612609  1612609\n",
      "2  1997-12-31   700982   700982   700982\n",
      "3  1998-12-31   308070   308070   308070\n",
      "4  1999-12-31  1198384  1198384  1198384\n",
      "5  2000-12-31  1953659  1953659  1953659\n",
      "6  2001-12-31  1186125  1186125  1186125\n",
      "7  2002-12-31   869719   869719   869719\n",
      "8  2003-12-31  1035878  1035878  1035878\n",
      "9  2004-12-31  1170049  1170049  1170049\n",
      "10 2005-12-31  1803158  1803158  1803158\n",
      "11 2006-12-31  1171836  1171836  1171836\n",
      "12 2007-12-31  1053430  1053430  1053430\n",
      "13 2008-12-31  1158777  1158777  1158777\n",
      "14 2009-12-31   930036   930036   930036\n",
      "15 2010-12-31   903691   903691   903691\n",
      "16 2011-12-31   766366   766366   766366\n",
      "17 2012-12-31   731389   731389   731389\n",
      "18 2013-12-31   599327   599327   599327\n",
      "19 2014-12-31   562888   562888   562888\n",
      "20 2015-12-31   283886   283886   283886\n"
     ]
    }
   ],
   "source": [
    "# Calculate load per year and reset index. \"A\" is annual\n",
    "load_per_year = df.groupby(pd.Grouper(key=\"timestamp\", freq=\"A\")).count()\n",
    "load_per_year.reset_index(inplace=True)\n",
    "\n",
    "# check type of timestamp\n",
    "print(load_per_year.dtypes)\n",
    "print(load_per_year)"
   ]
  },
  {
   "cell_type": "code",
   "execution_count": 6,
   "metadata": {},
   "outputs": [
    {
     "data": {
      "text/html": [
       "<div>\n",
       "<style scoped>\n",
       "    .dataframe tbody tr th:only-of-type {\n",
       "        vertical-align: middle;\n",
       "    }\n",
       "\n",
       "    .dataframe tbody tr th {\n",
       "        vertical-align: top;\n",
       "    }\n",
       "\n",
       "    .dataframe thead th {\n",
       "        text-align: right;\n",
       "    }\n",
       "</style>\n",
       "<table border=\"1\" class=\"dataframe\">\n",
       "  <thead>\n",
       "    <tr style=\"text-align: right;\">\n",
       "      <th></th>\n",
       "      <th>userId</th>\n",
       "      <th>movieId</th>\n",
       "      <th>rating</th>\n",
       "      <th>timestamp</th>\n",
       "    </tr>\n",
       "  </thead>\n",
       "  <tbody>\n",
       "    <tr>\n",
       "      <th>4182421</th>\n",
       "      <td>28507</td>\n",
       "      <td>1176</td>\n",
       "      <td>4.0</td>\n",
       "      <td>1995-01-09 11:46:44</td>\n",
       "    </tr>\n",
       "    <tr>\n",
       "      <th>18950930</th>\n",
       "      <td>131160</td>\n",
       "      <td>21</td>\n",
       "      <td>3.0</td>\n",
       "      <td>1995-01-09 11:46:49</td>\n",
       "    </tr>\n",
       "    <tr>\n",
       "      <th>18950936</th>\n",
       "      <td>131160</td>\n",
       "      <td>47</td>\n",
       "      <td>5.0</td>\n",
       "      <td>1995-01-09 11:46:49</td>\n",
       "    </tr>\n",
       "    <tr>\n",
       "      <th>18950979</th>\n",
       "      <td>131160</td>\n",
       "      <td>1079</td>\n",
       "      <td>3.0</td>\n",
       "      <td>1995-01-09 11:46:49</td>\n",
       "    </tr>\n",
       "  </tbody>\n",
       "</table>\n",
       "</div>"
      ],
      "text/plain": [
       "          userId  movieId  rating           timestamp\n",
       "4182421    28507     1176     4.0 1995-01-09 11:46:44\n",
       "18950930  131160       21     3.0 1995-01-09 11:46:49\n",
       "18950936  131160       47     5.0 1995-01-09 11:46:49\n",
       "18950979  131160     1079     3.0 1995-01-09 11:46:49"
      ]
     },
     "execution_count": 6,
     "metadata": {},
     "output_type": "execute_result"
    }
   ],
   "source": [
    "# double check that 1995 really has only 4 entries in originial df\n",
    "df[(df['timestamp'] > '1995-01-01 00:00:00') & (df['timestamp'] < '1996-01-01 00:00:00')]"
   ]
  },
  {
   "cell_type": "code",
   "execution_count": 7,
   "metadata": {},
   "outputs": [
    {
     "data": {
      "text/html": [
       "<div>\n",
       "<style scoped>\n",
       "    .dataframe tbody tr th:only-of-type {\n",
       "        vertical-align: middle;\n",
       "    }\n",
       "\n",
       "    .dataframe tbody tr th {\n",
       "        vertical-align: top;\n",
       "    }\n",
       "\n",
       "    .dataframe thead th {\n",
       "        text-align: right;\n",
       "    }\n",
       "</style>\n",
       "<table border=\"1\" class=\"dataframe\">\n",
       "  <thead>\n",
       "    <tr style=\"text-align: right;\">\n",
       "      <th></th>\n",
       "      <th>timestamp</th>\n",
       "      <th>userId</th>\n",
       "      <th>movieId</th>\n",
       "      <th>rating</th>\n",
       "    </tr>\n",
       "  </thead>\n",
       "  <tbody>\n",
       "    <tr>\n",
       "      <th>1</th>\n",
       "      <td>1996-12-31</td>\n",
       "      <td>1612609</td>\n",
       "      <td>1612609</td>\n",
       "      <td>1612609</td>\n",
       "    </tr>\n",
       "    <tr>\n",
       "      <th>2</th>\n",
       "      <td>1997-12-31</td>\n",
       "      <td>700982</td>\n",
       "      <td>700982</td>\n",
       "      <td>700982</td>\n",
       "    </tr>\n",
       "    <tr>\n",
       "      <th>3</th>\n",
       "      <td>1998-12-31</td>\n",
       "      <td>308070</td>\n",
       "      <td>308070</td>\n",
       "      <td>308070</td>\n",
       "    </tr>\n",
       "    <tr>\n",
       "      <th>4</th>\n",
       "      <td>1999-12-31</td>\n",
       "      <td>1198384</td>\n",
       "      <td>1198384</td>\n",
       "      <td>1198384</td>\n",
       "    </tr>\n",
       "    <tr>\n",
       "      <th>5</th>\n",
       "      <td>2000-12-31</td>\n",
       "      <td>1953659</td>\n",
       "      <td>1953659</td>\n",
       "      <td>1953659</td>\n",
       "    </tr>\n",
       "    <tr>\n",
       "      <th>6</th>\n",
       "      <td>2001-12-31</td>\n",
       "      <td>1186125</td>\n",
       "      <td>1186125</td>\n",
       "      <td>1186125</td>\n",
       "    </tr>\n",
       "    <tr>\n",
       "      <th>7</th>\n",
       "      <td>2002-12-31</td>\n",
       "      <td>869719</td>\n",
       "      <td>869719</td>\n",
       "      <td>869719</td>\n",
       "    </tr>\n",
       "    <tr>\n",
       "      <th>8</th>\n",
       "      <td>2003-12-31</td>\n",
       "      <td>1035878</td>\n",
       "      <td>1035878</td>\n",
       "      <td>1035878</td>\n",
       "    </tr>\n",
       "    <tr>\n",
       "      <th>9</th>\n",
       "      <td>2004-12-31</td>\n",
       "      <td>1170049</td>\n",
       "      <td>1170049</td>\n",
       "      <td>1170049</td>\n",
       "    </tr>\n",
       "    <tr>\n",
       "      <th>10</th>\n",
       "      <td>2005-12-31</td>\n",
       "      <td>1803158</td>\n",
       "      <td>1803158</td>\n",
       "      <td>1803158</td>\n",
       "    </tr>\n",
       "    <tr>\n",
       "      <th>11</th>\n",
       "      <td>2006-12-31</td>\n",
       "      <td>1171836</td>\n",
       "      <td>1171836</td>\n",
       "      <td>1171836</td>\n",
       "    </tr>\n",
       "    <tr>\n",
       "      <th>12</th>\n",
       "      <td>2007-12-31</td>\n",
       "      <td>1053430</td>\n",
       "      <td>1053430</td>\n",
       "      <td>1053430</td>\n",
       "    </tr>\n",
       "    <tr>\n",
       "      <th>13</th>\n",
       "      <td>2008-12-31</td>\n",
       "      <td>1158777</td>\n",
       "      <td>1158777</td>\n",
       "      <td>1158777</td>\n",
       "    </tr>\n",
       "    <tr>\n",
       "      <th>14</th>\n",
       "      <td>2009-12-31</td>\n",
       "      <td>930036</td>\n",
       "      <td>930036</td>\n",
       "      <td>930036</td>\n",
       "    </tr>\n",
       "    <tr>\n",
       "      <th>15</th>\n",
       "      <td>2010-12-31</td>\n",
       "      <td>903691</td>\n",
       "      <td>903691</td>\n",
       "      <td>903691</td>\n",
       "    </tr>\n",
       "    <tr>\n",
       "      <th>16</th>\n",
       "      <td>2011-12-31</td>\n",
       "      <td>766366</td>\n",
       "      <td>766366</td>\n",
       "      <td>766366</td>\n",
       "    </tr>\n",
       "    <tr>\n",
       "      <th>17</th>\n",
       "      <td>2012-12-31</td>\n",
       "      <td>731389</td>\n",
       "      <td>731389</td>\n",
       "      <td>731389</td>\n",
       "    </tr>\n",
       "    <tr>\n",
       "      <th>18</th>\n",
       "      <td>2013-12-31</td>\n",
       "      <td>599327</td>\n",
       "      <td>599327</td>\n",
       "      <td>599327</td>\n",
       "    </tr>\n",
       "    <tr>\n",
       "      <th>19</th>\n",
       "      <td>2014-12-31</td>\n",
       "      <td>562888</td>\n",
       "      <td>562888</td>\n",
       "      <td>562888</td>\n",
       "    </tr>\n",
       "  </tbody>\n",
       "</table>\n",
       "</div>"
      ],
      "text/plain": [
       "    timestamp   userId  movieId   rating\n",
       "1  1996-12-31  1612609  1612609  1612609\n",
       "2  1997-12-31   700982   700982   700982\n",
       "3  1998-12-31   308070   308070   308070\n",
       "4  1999-12-31  1198384  1198384  1198384\n",
       "5  2000-12-31  1953659  1953659  1953659\n",
       "6  2001-12-31  1186125  1186125  1186125\n",
       "7  2002-12-31   869719   869719   869719\n",
       "8  2003-12-31  1035878  1035878  1035878\n",
       "9  2004-12-31  1170049  1170049  1170049\n",
       "10 2005-12-31  1803158  1803158  1803158\n",
       "11 2006-12-31  1171836  1171836  1171836\n",
       "12 2007-12-31  1053430  1053430  1053430\n",
       "13 2008-12-31  1158777  1158777  1158777\n",
       "14 2009-12-31   930036   930036   930036\n",
       "15 2010-12-31   903691   903691   903691\n",
       "16 2011-12-31   766366   766366   766366\n",
       "17 2012-12-31   731389   731389   731389\n",
       "18 2013-12-31   599327   599327   599327\n",
       "19 2014-12-31   562888   562888   562888"
      ]
     },
     "execution_count": 7,
     "metadata": {},
     "output_type": "execute_result"
    }
   ],
   "source": [
    "# remove 1995 from load_per_year dataframe because it's confirmed to only have 4 entries\n",
    "# and 2016 because that data was only collected until March 31,2015\n",
    "load_per_year = load_per_year.iloc[1:20,:] # you used same variable to avoid slice on copy warning\n",
    "load_per_year"
   ]
  },
  {
   "cell_type": "code",
   "execution_count": 8,
   "metadata": {
    "collapsed": true
   },
   "outputs": [],
   "source": [
    "# convert timestamp back to string and only had the year label\n",
    "load_per_year[\"timestamp\"] = load_per_year[\"timestamp\"].dt.strftime(\"%Y\")"
   ]
  },
  {
   "cell_type": "code",
   "execution_count": 9,
   "metadata": {},
   "outputs": [
    {
     "data": {
      "text/plain": [
       "timestamp    object\n",
       "userId        int64\n",
       "movieId       int64\n",
       "rating        int64\n",
       "dtype: object"
      ]
     },
     "execution_count": 9,
     "metadata": {},
     "output_type": "execute_result"
    }
   ],
   "source": [
    "# check that the date is an object again\n",
    "load_per_year.dtypes"
   ]
  },
  {
   "cell_type": "code",
   "execution_count": 10,
   "metadata": {
    "scrolled": true
   },
   "outputs": [
    {
     "data": {
      "text/html": [
       "<div>\n",
       "<style scoped>\n",
       "    .dataframe tbody tr th:only-of-type {\n",
       "        vertical-align: middle;\n",
       "    }\n",
       "\n",
       "    .dataframe tbody tr th {\n",
       "        vertical-align: top;\n",
       "    }\n",
       "\n",
       "    .dataframe thead th {\n",
       "        text-align: right;\n",
       "    }\n",
       "</style>\n",
       "<table border=\"1\" class=\"dataframe\">\n",
       "  <thead>\n",
       "    <tr style=\"text-align: right;\">\n",
       "      <th></th>\n",
       "      <th>timestamp</th>\n",
       "      <th>userId</th>\n",
       "      <th>movieId</th>\n",
       "      <th>rating</th>\n",
       "    </tr>\n",
       "  </thead>\n",
       "  <tbody>\n",
       "    <tr>\n",
       "      <th>1</th>\n",
       "      <td>1996</td>\n",
       "      <td>1612609</td>\n",
       "      <td>1612609</td>\n",
       "      <td>1612609</td>\n",
       "    </tr>\n",
       "    <tr>\n",
       "      <th>2</th>\n",
       "      <td>1997</td>\n",
       "      <td>700982</td>\n",
       "      <td>700982</td>\n",
       "      <td>700982</td>\n",
       "    </tr>\n",
       "    <tr>\n",
       "      <th>3</th>\n",
       "      <td>1998</td>\n",
       "      <td>308070</td>\n",
       "      <td>308070</td>\n",
       "      <td>308070</td>\n",
       "    </tr>\n",
       "    <tr>\n",
       "      <th>4</th>\n",
       "      <td>1999</td>\n",
       "      <td>1198384</td>\n",
       "      <td>1198384</td>\n",
       "      <td>1198384</td>\n",
       "    </tr>\n",
       "    <tr>\n",
       "      <th>5</th>\n",
       "      <td>2000</td>\n",
       "      <td>1953659</td>\n",
       "      <td>1953659</td>\n",
       "      <td>1953659</td>\n",
       "    </tr>\n",
       "    <tr>\n",
       "      <th>6</th>\n",
       "      <td>2001</td>\n",
       "      <td>1186125</td>\n",
       "      <td>1186125</td>\n",
       "      <td>1186125</td>\n",
       "    </tr>\n",
       "    <tr>\n",
       "      <th>7</th>\n",
       "      <td>2002</td>\n",
       "      <td>869719</td>\n",
       "      <td>869719</td>\n",
       "      <td>869719</td>\n",
       "    </tr>\n",
       "    <tr>\n",
       "      <th>8</th>\n",
       "      <td>2003</td>\n",
       "      <td>1035878</td>\n",
       "      <td>1035878</td>\n",
       "      <td>1035878</td>\n",
       "    </tr>\n",
       "    <tr>\n",
       "      <th>9</th>\n",
       "      <td>2004</td>\n",
       "      <td>1170049</td>\n",
       "      <td>1170049</td>\n",
       "      <td>1170049</td>\n",
       "    </tr>\n",
       "    <tr>\n",
       "      <th>10</th>\n",
       "      <td>2005</td>\n",
       "      <td>1803158</td>\n",
       "      <td>1803158</td>\n",
       "      <td>1803158</td>\n",
       "    </tr>\n",
       "    <tr>\n",
       "      <th>11</th>\n",
       "      <td>2006</td>\n",
       "      <td>1171836</td>\n",
       "      <td>1171836</td>\n",
       "      <td>1171836</td>\n",
       "    </tr>\n",
       "    <tr>\n",
       "      <th>12</th>\n",
       "      <td>2007</td>\n",
       "      <td>1053430</td>\n",
       "      <td>1053430</td>\n",
       "      <td>1053430</td>\n",
       "    </tr>\n",
       "    <tr>\n",
       "      <th>13</th>\n",
       "      <td>2008</td>\n",
       "      <td>1158777</td>\n",
       "      <td>1158777</td>\n",
       "      <td>1158777</td>\n",
       "    </tr>\n",
       "    <tr>\n",
       "      <th>14</th>\n",
       "      <td>2009</td>\n",
       "      <td>930036</td>\n",
       "      <td>930036</td>\n",
       "      <td>930036</td>\n",
       "    </tr>\n",
       "    <tr>\n",
       "      <th>15</th>\n",
       "      <td>2010</td>\n",
       "      <td>903691</td>\n",
       "      <td>903691</td>\n",
       "      <td>903691</td>\n",
       "    </tr>\n",
       "    <tr>\n",
       "      <th>16</th>\n",
       "      <td>2011</td>\n",
       "      <td>766366</td>\n",
       "      <td>766366</td>\n",
       "      <td>766366</td>\n",
       "    </tr>\n",
       "    <tr>\n",
       "      <th>17</th>\n",
       "      <td>2012</td>\n",
       "      <td>731389</td>\n",
       "      <td>731389</td>\n",
       "      <td>731389</td>\n",
       "    </tr>\n",
       "    <tr>\n",
       "      <th>18</th>\n",
       "      <td>2013</td>\n",
       "      <td>599327</td>\n",
       "      <td>599327</td>\n",
       "      <td>599327</td>\n",
       "    </tr>\n",
       "    <tr>\n",
       "      <th>19</th>\n",
       "      <td>2014</td>\n",
       "      <td>562888</td>\n",
       "      <td>562888</td>\n",
       "      <td>562888</td>\n",
       "    </tr>\n",
       "  </tbody>\n",
       "</table>\n",
       "</div>"
      ],
      "text/plain": [
       "   timestamp   userId  movieId   rating\n",
       "1       1996  1612609  1612609  1612609\n",
       "2       1997   700982   700982   700982\n",
       "3       1998   308070   308070   308070\n",
       "4       1999  1198384  1198384  1198384\n",
       "5       2000  1953659  1953659  1953659\n",
       "6       2001  1186125  1186125  1186125\n",
       "7       2002   869719   869719   869719\n",
       "8       2003  1035878  1035878  1035878\n",
       "9       2004  1170049  1170049  1170049\n",
       "10      2005  1803158  1803158  1803158\n",
       "11      2006  1171836  1171836  1171836\n",
       "12      2007  1053430  1053430  1053430\n",
       "13      2008  1158777  1158777  1158777\n",
       "14      2009   930036   930036   930036\n",
       "15      2010   903691   903691   903691\n",
       "16      2011   766366   766366   766366\n",
       "17      2012   731389   731389   731389\n",
       "18      2013   599327   599327   599327\n",
       "19      2014   562888   562888   562888"
      ]
     },
     "execution_count": 10,
     "metadata": {},
     "output_type": "execute_result"
    }
   ],
   "source": [
    "######################################\n",
    "# if you wanted to re-index the dataframe\n",
    "#corrected_load_per_year.reset_index(inplace=True)\n",
    "load_per_year"
   ]
  },
  {
   "cell_type": "code",
   "execution_count": 11,
   "metadata": {},
   "outputs": [
    {
     "data": {
      "text/html": [
       "<div>\n",
       "<style scoped>\n",
       "    .dataframe tbody tr th:only-of-type {\n",
       "        vertical-align: middle;\n",
       "    }\n",
       "\n",
       "    .dataframe tbody tr th {\n",
       "        vertical-align: top;\n",
       "    }\n",
       "\n",
       "    .dataframe thead th {\n",
       "        text-align: right;\n",
       "    }\n",
       "</style>\n",
       "<table border=\"1\" class=\"dataframe\">\n",
       "  <thead>\n",
       "    <tr style=\"text-align: right;\">\n",
       "      <th></th>\n",
       "      <th>timestamp</th>\n",
       "      <th>userId</th>\n",
       "    </tr>\n",
       "  </thead>\n",
       "  <tbody>\n",
       "    <tr>\n",
       "      <th>1</th>\n",
       "      <td>1996</td>\n",
       "      <td>1612609</td>\n",
       "    </tr>\n",
       "    <tr>\n",
       "      <th>2</th>\n",
       "      <td>1997</td>\n",
       "      <td>700982</td>\n",
       "    </tr>\n",
       "    <tr>\n",
       "      <th>3</th>\n",
       "      <td>1998</td>\n",
       "      <td>308070</td>\n",
       "    </tr>\n",
       "    <tr>\n",
       "      <th>4</th>\n",
       "      <td>1999</td>\n",
       "      <td>1198384</td>\n",
       "    </tr>\n",
       "    <tr>\n",
       "      <th>5</th>\n",
       "      <td>2000</td>\n",
       "      <td>1953659</td>\n",
       "    </tr>\n",
       "    <tr>\n",
       "      <th>6</th>\n",
       "      <td>2001</td>\n",
       "      <td>1186125</td>\n",
       "    </tr>\n",
       "    <tr>\n",
       "      <th>7</th>\n",
       "      <td>2002</td>\n",
       "      <td>869719</td>\n",
       "    </tr>\n",
       "    <tr>\n",
       "      <th>8</th>\n",
       "      <td>2003</td>\n",
       "      <td>1035878</td>\n",
       "    </tr>\n",
       "    <tr>\n",
       "      <th>9</th>\n",
       "      <td>2004</td>\n",
       "      <td>1170049</td>\n",
       "    </tr>\n",
       "    <tr>\n",
       "      <th>10</th>\n",
       "      <td>2005</td>\n",
       "      <td>1803158</td>\n",
       "    </tr>\n",
       "    <tr>\n",
       "      <th>11</th>\n",
       "      <td>2006</td>\n",
       "      <td>1171836</td>\n",
       "    </tr>\n",
       "    <tr>\n",
       "      <th>12</th>\n",
       "      <td>2007</td>\n",
       "      <td>1053430</td>\n",
       "    </tr>\n",
       "    <tr>\n",
       "      <th>13</th>\n",
       "      <td>2008</td>\n",
       "      <td>1158777</td>\n",
       "    </tr>\n",
       "    <tr>\n",
       "      <th>14</th>\n",
       "      <td>2009</td>\n",
       "      <td>930036</td>\n",
       "    </tr>\n",
       "    <tr>\n",
       "      <th>15</th>\n",
       "      <td>2010</td>\n",
       "      <td>903691</td>\n",
       "    </tr>\n",
       "    <tr>\n",
       "      <th>16</th>\n",
       "      <td>2011</td>\n",
       "      <td>766366</td>\n",
       "    </tr>\n",
       "    <tr>\n",
       "      <th>17</th>\n",
       "      <td>2012</td>\n",
       "      <td>731389</td>\n",
       "    </tr>\n",
       "    <tr>\n",
       "      <th>18</th>\n",
       "      <td>2013</td>\n",
       "      <td>599327</td>\n",
       "    </tr>\n",
       "    <tr>\n",
       "      <th>19</th>\n",
       "      <td>2014</td>\n",
       "      <td>562888</td>\n",
       "    </tr>\n",
       "  </tbody>\n",
       "</table>\n",
       "</div>"
      ],
      "text/plain": [
       "   timestamp   userId\n",
       "1       1996  1612609\n",
       "2       1997   700982\n",
       "3       1998   308070\n",
       "4       1999  1198384\n",
       "5       2000  1953659\n",
       "6       2001  1186125\n",
       "7       2002   869719\n",
       "8       2003  1035878\n",
       "9       2004  1170049\n",
       "10      2005  1803158\n",
       "11      2006  1171836\n",
       "12      2007  1053430\n",
       "13      2008  1158777\n",
       "14      2009   930036\n",
       "15      2010   903691\n",
       "16      2011   766366\n",
       "17      2012   731389\n",
       "18      2013   599327\n",
       "19      2014   562888"
      ]
     },
     "execution_count": 11,
     "metadata": {},
     "output_type": "execute_result"
    }
   ],
   "source": [
    "# keep timestamp and one other columns for keeping track of the entries count\n",
    "load_per_year.drop(['movieId', 'rating'], axis=1, inplace=True)\n",
    "load_per_year"
   ]
  },
  {
   "cell_type": "code",
   "execution_count": 12,
   "metadata": {},
   "outputs": [
    {
     "data": {
      "text/plain": [
       "year collected       object\n",
       "number of entries     int64\n",
       "dtype: object"
      ]
     },
     "execution_count": 12,
     "metadata": {},
     "output_type": "execute_result"
    }
   ],
   "source": [
    "# rename time grouping and the other column to a count label\n",
    "load_per_year.rename(columns = {\"timestamp\": \"year collected\", \"userId\": \"number of entries\"}, inplace=True)\n",
    "load_per_year.dtypes"
   ]
  },
  {
   "cell_type": "code",
   "execution_count": 13,
   "metadata": {},
   "outputs": [
    {
     "data": {
      "text/plain": [
       "list"
      ]
     },
     "execution_count": 13,
     "metadata": {},
     "output_type": "execute_result"
    }
   ],
   "source": [
    "# final step is convert to list of dictionaries for the API. Call the list loads because your endpoint it /loads\n",
    "loads = load_per_year.to_dict(\"records\")\n",
    "type(loads)"
   ]
  },
  {
   "cell_type": "code",
   "execution_count": 14,
   "metadata": {},
   "outputs": [
    {
     "name": "stdout",
     "output_type": "stream",
     "text": [
      "1953659\n",
      "308070\n",
      "417816\n",
      "1037703\n"
     ]
    },
    {
     "data": {
      "text/plain": [
       "int"
      ]
     },
     "execution_count": 14,
     "metadata": {},
     "output_type": "execute_result"
    }
   ],
   "source": [
    "# calculate min,max,standard dev, and average and make sure they're all integers for the API\n",
    "year_max = int(load_per_year.max()[1])\n",
    "\n",
    "year_min = int(load_per_year.min()[1])\n",
    "\n",
    "standard_dev_loads = int(load_per_year.std()[0])\n",
    "\n",
    "average_load = int(load_per_year.mean()[1])\n",
    " \n",
    "\n",
    "print(year_max)\n",
    "print(year_min)\n",
    "print(standard_dev_loads)\n",
    "print(average_load)\n",
    "\n",
    "type(year_min)"
   ]
  },
  {
   "cell_type": "code",
   "execution_count": 15,
   "metadata": {
    "collapsed": true
   },
   "outputs": [],
   "source": [
    "# make a dictionary of all the stats together\n",
    "# use defaultdict to make an empty dict\n",
    "from collections import defaultdict\n",
    "\n",
    "\n",
    "statistics = defaultdict(dict)  # makes an empty dictionary\n",
    "statistics[\"loads per year\"] = loads\n",
    "statistics[\"max load per year\"] = year_max\n",
    "statistics[\"min load per year\"] = year_min\n",
    "statistics[\"standard deviation of loads per year\"] = standard_dev_loads\n",
    "statistics[\"average loads per year\"] = average_load"
   ]
  },
  {
   "cell_type": "markdown",
   "metadata": {},
   "source": [
    "# Make API"
   ]
  },
  {
   "cell_type": "code",
   "execution_count": 16,
   "metadata": {
    "collapsed": true
   },
   "outputs": [],
   "source": [
    "from flask import Flask, jsonify, make_response\n",
    "\n",
    "# create app from Flask class which gives each file a unique name\n",
    "app = Flask(__name__) "
   ]
  },
  {
   "cell_type": "code",
   "execution_count": 17,
   "metadata": {
    "collapsed": true
   },
   "outputs": [],
   "source": [
    "# Make request decorator that fires after the request is made so all requests get the the custom header\n",
    "@app.after_request\n",
    "def after_request(response):\n",
    "    response.headers[\"X-Service_Version\"] = \"v0.1.0\"\n",
    "    return response"
   ]
  },
  {
   "cell_type": "code",
   "execution_count": 18,
   "metadata": {
    "collapsed": true
   },
   "outputs": [],
   "source": [
    "# GET /statistics\n",
    "@app.route(\"/statistics\") \n",
    "def get_statistics():\n",
    "    return jsonify({\"statistics\": statistics})"
   ]
  },
  {
   "cell_type": "code",
   "execution_count": 19,
   "metadata": {
    "collapsed": true
   },
   "outputs": [],
   "source": [
    "# GET /statistics/loads\n",
    "@app.route(\"/statistics/loads\") \n",
    "def get_statistics_loads():\n",
    "    return jsonify({\"loads per year\": loads})"
   ]
  },
  {
   "cell_type": "code",
   "execution_count": 20,
   "metadata": {
    "collapsed": true
   },
   "outputs": [],
   "source": [
    "# GET /statistics/loads/avg\n",
    "@app.route(\"/statistics/loads/avg\")\n",
    "def get_statistics_avg():\n",
    "    return jsonify({\"average loads per year\": average_load})"
   ]
  },
  {
   "cell_type": "code",
   "execution_count": 21,
   "metadata": {
    "collapsed": true
   },
   "outputs": [],
   "source": [
    "# GET /statistics/loads/stddev\n",
    "@app.route(\"/statistics/loads/stddev\") \n",
    "def get_statistics_sttdev():\n",
    "    return jsonify({\"standard deviation of loads per year\": standard_dev_loads})"
   ]
  },
  {
   "cell_type": "code",
   "execution_count": 22,
   "metadata": {
    "collapsed": true
   },
   "outputs": [],
   "source": [
    "# GET /statistics/loads/min\n",
    "@app.route(\"/statistics/loads/min\")\n",
    "def get_statistics_min():\n",
    "    return jsonify({\"min load per year\": year_min})"
   ]
  },
  {
   "cell_type": "code",
   "execution_count": 23,
   "metadata": {
    "collapsed": true
   },
   "outputs": [],
   "source": [
    "# GET /statistics/loads/max\n",
    "@app.route(\"/statistics/loads/max\")\n",
    "def get_statistics_max():\n",
    "    return jsonify({\"max per year\": year_max})"
   ]
  },
  {
   "cell_type": "code",
   "execution_count": null,
   "metadata": {
    "collapsed": true
   },
   "outputs": [],
   "source": [
    "# GET /statistics/loads/<string:name>   # returns message that the desired calculation does not exist\n",
    "@app.route('/statistics/loads/<string:name>')\n",
    "def get_not_performed_message(name):\n",
    "    if name not in (\"loads\", \"avg\", \"min\", \"max\"):\n",
    "        return jsonify({\"message\": \"calculation not performed\"})"
   ]
  },
  {
   "cell_type": "code",
   "execution_count": null,
   "metadata": {},
   "outputs": [
    {
     "name": "stderr",
     "output_type": "stream",
     "text": [
      " * Running on http://127.0.0.1:5000/ (Press CTRL+C to quit)\n"
     ]
    }
   ],
   "source": [
    "app.run(port=5000)"
   ]
  }
 ],
 "metadata": {
  "kernelspec": {
   "display_name": "github_venv",
   "language": "python",
   "name": "github_venv"
  },
  "language_info": {
   "codemirror_mode": {
    "name": "ipython",
    "version": 3
   },
   "file_extension": ".py",
   "mimetype": "text/x-python",
   "name": "python",
   "nbconvert_exporter": "python",
   "pygments_lexer": "ipython3",
   "version": "3.5.4"
  }
 },
 "nbformat": 4,
 "nbformat_minor": 2
}
